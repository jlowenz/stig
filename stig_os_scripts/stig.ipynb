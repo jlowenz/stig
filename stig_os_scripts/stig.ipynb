{
 "metadata": {
  "name": "",
  "signature": "sha256:d3e6161adc99549ced60d22d382be57d8f7d2cba3236626707c1ad93f419ecfd"
 },
 "nbformat": 3,
 "nbformat_minor": 0,
 "worksheets": [
  {
   "cells": [
    {
     "cell_type": "code",
     "collapsed": false,
     "input": [
      "import stig_functions\n",
      "import ubuntu\n",
      "import stigs_cat1 as stigs\n",
      "import subprocess as p\n",
      "import pexpect as e\n",
      "reload(stig_functions)\n",
      "reload(ubuntu)\n",
      "reload(stigs_cat1)\n",
      "ubuntu.check_os_version()\n"
     ],
     "language": "python",
     "metadata": {},
     "outputs": [
      {
       "metadata": {},
       "output_type": "pyout",
       "prompt_number": 122,
       "text": [
        "True"
       ]
      }
     ],
     "prompt_number": 122
    },
    {
     "cell_type": "code",
     "collapsed": false,
     "input": [
      "ubuntu.remove_files(\"/tmp/a\\n/tmp/b\\n/tmp/c\\n/tmp/d\")"
     ],
     "language": "python",
     "metadata": {},
     "outputs": [
      {
       "output_type": "stream",
       "stream": "stdout",
       "text": [
        "/tmp/a /tmp/b /tmp/c /tmp/d\n"
       ]
      }
     ],
     "prompt_number": 124
    },
    {
     "cell_type": "code",
     "collapsed": false,
     "input": [
      "import string as s"
     ],
     "language": "python",
     "metadata": {},
     "outputs": [],
     "prompt_number": 113
    },
    {
     "cell_type": "code",
     "collapsed": false,
     "input": [],
     "language": "python",
     "metadata": {},
     "outputs": []
    }
   ],
   "metadata": {}
  }
 ]
}