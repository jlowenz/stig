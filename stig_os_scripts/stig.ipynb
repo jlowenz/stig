{
 "metadata": {
  "name": "",
  "signature": "sha256:e46498c7d9b1734a305fa61d85dbc73fd2223c3136bcc051e634ae585b6f5857"
 },
 "nbformat": 3,
 "nbformat_minor": 0,
 "worksheets": [
  {
   "cells": [
    {
     "cell_type": "code",
     "collapsed": false,
     "input": [
      "import stig_functions\n",
      "import ubuntu\n",
      "import stigs_cat1 as stigs\n",
      "import subprocess as p\n",
      "import pexpect as e\n",
      "import os\n",
      "reload(stig_functions)\n",
      "reload(ubuntu)\n",
      "reload(stigs)\n",
      "ubuntu.check_os_version()\n"
     ],
     "language": "python",
     "metadata": {},
     "outputs": [
      {
       "metadata": {},
       "output_type": "pyout",
       "prompt_number": 62,
       "text": [
        "True"
       ]
      }
     ],
     "prompt_number": 62
    },
    {
     "cell_type": "code",
     "collapsed": false,
     "input": [
      "v = stigs.v50415()"
     ],
     "language": "python",
     "metadata": {},
     "outputs": [],
     "prompt_number": 63
    },
    {
     "cell_type": "code",
     "collapsed": false,
     "input": [
      "print v"
     ],
     "language": "python",
     "metadata": {},
     "outputs": [
      {
       "output_type": "stream",
       "stream": "stdout",
       "text": [
        "(v50415) SSH daemon must not allow authentication with empty password: Fail\n"
       ]
      }
     ],
     "prompt_number": 66
    },
    {
     "cell_type": "code",
     "collapsed": false,
     "input": [
      "v.fix()"
     ],
     "language": "python",
     "metadata": {},
     "outputs": [],
     "prompt_number": 65
    },
    {
     "cell_type": "code",
     "collapsed": false,
     "input": [],
     "language": "python",
     "metadata": {},
     "outputs": []
    }
   ],
   "metadata": {}
  }
 ]
}