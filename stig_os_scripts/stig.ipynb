{
 "metadata": {
  "name": "",
  "signature": "sha256:625f7edd7b894a16da7646c41a8e156ca3953bb3f4f773e7b46d6f66c36bd419"
 },
 "nbformat": 3,
 "nbformat_minor": 0,
 "worksheets": [
  {
   "cells": [
    {
     "cell_type": "code",
     "collapsed": false,
     "input": [
      "import stig_functions\n",
      "import ubuntu\n",
      "import stigs_cat1 as stigs\n",
      "import subprocess as p\n",
      "import pexpect as e\n",
      "import os\n",
      "reload(stig_functions)\n",
      "reload(ubuntu)\n",
      "reload(stigs)\n",
      "ubuntu.check_os_version()\n"
     ],
     "language": "python",
     "metadata": {},
     "outputs": [
      {
       "metadata": {},
       "output_type": "pyout",
       "prompt_number": 220,
       "text": [
        "True"
       ]
      }
     ],
     "prompt_number": 220
    },
    {
     "cell_type": "code",
     "collapsed": false,
     "input": [
      "v = stigs.v50502()"
     ],
     "language": "python",
     "metadata": {},
     "outputs": [],
     "prompt_number": 221
    },
    {
     "cell_type": "code",
     "collapsed": false,
     "input": [
      "print v"
     ],
     "language": "python",
     "metadata": {},
     "outputs": [
      {
       "output_type": "stream",
       "stream": "stdout",
       "text": [
        "Verifying package: tftpd\n",
        "Verifying package:"
       ]
      },
      {
       "output_type": "stream",
       "stream": "stdout",
       "text": [
        " tftpd-hpa\n",
        "Verifying package:"
       ]
      },
      {
       "output_type": "stream",
       "stream": "stdout",
       "text": [
        " atftpd\n",
        "Verifying package:"
       ]
      },
      {
       "output_type": "stream",
       "stream": "stdout",
       "text": [
        " python-txtftp\n",
        "(v50502) Disable TFTP daemon: Pass"
       ]
      },
      {
       "output_type": "stream",
       "stream": "stdout",
       "text": [
        "\n"
       ]
      }
     ],
     "prompt_number": 222
    },
    {
     "cell_type": "code",
     "collapsed": false,
     "input": [
      "v.fix()"
     ],
     "language": "python",
     "metadata": {},
     "outputs": [],
     "prompt_number": 223
    },
    {
     "cell_type": "code",
     "collapsed": false,
     "input": [
      "ubuntu.older_than(\"/opt/NAI/LinuxShield/engine/dat/avvscan.dat\", 7)"
     ],
     "language": "python",
     "metadata": {},
     "outputs": [
      {
       "output_type": "stream",
       "stream": "stdout",
       "text": [
        "2014-05-13 12:40:25.083875\n",
        "2014-05-13 12:14:17.968441\n",
        "0:26:07.115434\n"
       ]
      },
      {
       "metadata": {},
       "output_type": "pyout",
       "prompt_number": 108,
       "text": [
        "False"
       ]
      }
     ],
     "prompt_number": 108
    },
    {
     "cell_type": "code",
     "collapsed": false,
     "input": [
      "os.path.dirname(\"/usr/local/blah/ooga\")"
     ],
     "language": "python",
     "metadata": {},
     "outputs": [
      {
       "metadata": {},
       "output_type": "pyout",
       "prompt_number": 113,
       "text": [
        "'/usr/local/blah'"
       ]
      }
     ],
     "prompt_number": 113
    },
    {
     "cell_type": "code",
     "collapsed": false,
     "input": [],
     "language": "python",
     "metadata": {},
     "outputs": []
    }
   ],
   "metadata": {}
  }
 ]
}