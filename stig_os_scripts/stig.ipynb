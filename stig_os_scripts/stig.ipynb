{
 "metadata": {
  "name": "",
  "signature": "sha256:6ae89b6871fa939ccb3d46f13c0c2b765172bb7b10b2c1d5f4455590a41346f1"
 },
 "nbformat": 3,
 "nbformat_minor": 0,
 "worksheets": [
  {
   "cells": [
    {
     "cell_type": "code",
     "collapsed": false,
     "input": [
      "import stig_functions\n",
      "import ubuntu\n",
      "import stigs_cat1 as stigs\n",
      "import subprocess as p\n",
      "import pexpect as e\n",
      "reload(stig_functions)\n",
      "reload(ubuntu)\n",
      "reload(stigs_cat1)\n",
      "ubuntu.check_os_version()\n"
     ],
     "language": "python",
     "metadata": {},
     "outputs": [
      {
       "metadata": {},
       "output_type": "pyout",
       "prompt_number": 120,
       "text": [
        "True"
       ]
      }
     ],
     "prompt_number": 120
    },
    {
     "cell_type": "code",
     "collapsed": false,
     "input": [
      "ubuntu.remove_files(\"/tmp/a\\n/tmp/b\\n/tmp/c\")"
     ],
     "language": "python",
     "metadata": {},
     "outputs": [
      {
       "output_type": "stream",
       "stream": "stdout",
       "text": [
        "/tmp/a\n",
        " /tmp/b\n",
        " /tmp/c\n"
       ]
      }
     ],
     "prompt_number": 121
    },
    {
     "cell_type": "code",
     "collapsed": false,
     "input": [
      "import string as s"
     ],
     "language": "python",
     "metadata": {},
     "outputs": [],
     "prompt_number": 113
    },
    {
     "cell_type": "code",
     "collapsed": false,
     "input": [],
     "language": "python",
     "metadata": {},
     "outputs": []
    }
   ],
   "metadata": {}
  }
 ]
}