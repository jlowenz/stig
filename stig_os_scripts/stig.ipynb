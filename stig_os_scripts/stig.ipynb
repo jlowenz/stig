{
 "metadata": {
  "name": "",
  "signature": "sha256:e4104b4125df5a2ebc6951709df281bf0b0d6c418118e37b8f34e4c7a63833fc"
 },
 "nbformat": 3,
 "nbformat_minor": 0,
 "worksheets": [
  {
   "cells": [
    {
     "cell_type": "code",
     "collapsed": false,
     "input": [
      "import stig_functions\n",
      "import ubuntu\n",
      "import stigs_cat1 as stigs\n",
      "import subprocess as p\n",
      "import pexpect as e\n",
      "import os\n",
      "reload(stig_functions)\n",
      "reload(ubuntu)\n",
      "reload(stigs)\n",
      "ubuntu.check_os_version()\n"
     ],
     "language": "python",
     "metadata": {},
     "outputs": [
      {
       "metadata": {},
       "output_type": "pyout",
       "prompt_number": 215,
       "text": [
        "True"
       ]
      }
     ],
     "prompt_number": 215
    },
    {
     "cell_type": "code",
     "collapsed": false,
     "input": [
      "v = stigs.v50469()"
     ],
     "language": "python",
     "metadata": {},
     "outputs": [],
     "prompt_number": 216
    },
    {
     "cell_type": "code",
     "collapsed": false,
     "input": [
      "print v"
     ],
     "language": "python",
     "metadata": {},
     "outputs": [
      {
       "output_type": "stream",
       "stream": "stdout",
       "text": [
        "found: /etc/init/control-alt-delete.conf\r\n",
        "\n",
        "Checking /etc/init/control-alt-delete.conf\n",
        "(v50469) Disable ctl-alt-del sequence: Pass\n"
       ]
      }
     ],
     "prompt_number": 219
    },
    {
     "cell_type": "code",
     "collapsed": false,
     "input": [
      "v.fix()"
     ],
     "language": "python",
     "metadata": {},
     "outputs": [
      {
       "output_type": "stream",
       "stream": "stdout",
       "text": [
        "found: /etc/init/control-alt-delete.conf\r\n",
        "\n",
        "modifying /etc/init/control-alt-delete.conf\n",
        "perl -pi -e 's|^exec shutdown.*|exec /usr/bin/logger -p security.info \"Ctl-Alt-Delete pressed\"|g' /etc/init/control-alt-delete.conf\n"
       ]
      }
     ],
     "prompt_number": 218
    },
    {
     "cell_type": "code",
     "collapsed": false,
     "input": [
      "ubuntu.older_than(\"/opt/NAI/LinuxShield/engine/dat/avvscan.dat\", 7)"
     ],
     "language": "python",
     "metadata": {},
     "outputs": [
      {
       "output_type": "stream",
       "stream": "stdout",
       "text": [
        "2014-05-13 12:40:25.083875\n",
        "2014-05-13 12:14:17.968441\n",
        "0:26:07.115434\n"
       ]
      },
      {
       "metadata": {},
       "output_type": "pyout",
       "prompt_number": 108,
       "text": [
        "False"
       ]
      }
     ],
     "prompt_number": 108
    },
    {
     "cell_type": "code",
     "collapsed": false,
     "input": [
      "os.path.dirname(\"/usr/local/blah/ooga\")"
     ],
     "language": "python",
     "metadata": {},
     "outputs": [
      {
       "metadata": {},
       "output_type": "pyout",
       "prompt_number": 113,
       "text": [
        "'/usr/local/blah'"
       ]
      }
     ],
     "prompt_number": 113
    },
    {
     "cell_type": "code",
     "collapsed": false,
     "input": [],
     "language": "python",
     "metadata": {},
     "outputs": []
    }
   ],
   "metadata": {}
  }
 ]
}